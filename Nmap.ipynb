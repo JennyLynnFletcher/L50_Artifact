{
 "cells": [
  {
   "cell_type": "code",
   "execution_count": 1,
   "id": "09a05601",
   "metadata": {},
   "outputs": [],
   "source": [
    "%run ./useful.py\n",
    "%matplotlib inline"
   ]
  },
  {
   "cell_type": "code",
   "execution_count": 8,
   "id": "9a7be41a",
   "metadata": {},
   "outputs": [
    {
     "name": "stdout",
     "output_type": "stream",
     "text": [
      "Starting Nmap 7.80 ( https://nmap.org ) at 2021-11-24 11:26 UTC\n",
      "Nmap scan report for 128.232.97.85\n",
      "Host is up (0.000012s latency).\n",
      "Not shown: 65532 closed ports\n",
      "PORT     STATE SERVICE\n",
      "22/tcp   open  ssh\n",
      "111/tcp  open  rpcbind\n",
      "6653/tcp open  openflow\n",
      "\n",
      "Nmap done: 1 IP address (1 host up) scanned in 1.67 seconds\n",
      "\n"
     ]
    }
   ],
   "source": [
    "ssh = ssh_connect('128.232.97.86')\n",
    "output = ssh_cmd('nmap -p - 128.232.97.85',ssh)\n",
    "print(output)"
   ]
  },
  {
   "cell_type": "code",
   "execution_count": 4,
   "id": "a6c974e7",
   "metadata": {},
   "outputs": [
    {
     "name": "stdout",
     "output_type": "stream",
     "text": [
      "Starting Nmap 7.80 ( https://nmap.org ) at 2021-11-24 11:26 UTC\n",
      "Nmap scan report for 128.232.97.86\n",
      "Host is up (0.000012s latency).\n",
      "Not shown: 65532 closed ports\n",
      "PORT     STATE SERVICE\n",
      "22/tcp   open  ssh\n",
      "111/tcp  open  rpcbind\n",
      "6653/tcp open  openflow\n",
      "\n",
      "Nmap done: 1 IP address (1 host up) scanned in 1.70 seconds\n",
      "\n"
     ]
    }
   ],
   "source": [
    "ssh = ssh_connect('128.232.97.85')\n",
    "output = ssh_cmd('nmap -p - 128.232.97.86',ssh)\n",
    "print(output)"
   ]
  },
  {
   "cell_type": "code",
   "execution_count": 5,
   "id": "4433e70f",
   "metadata": {},
   "outputs": [
    {
     "name": "stdout",
     "output_type": "stream",
     "text": [
      "Starting Nmap 7.80 ( https://nmap.org ) at 2021-11-24 11:26 UTC\n",
      "Nmap scan report for 128.232.97.87\n",
      "Host is up (0.000012s latency).\n",
      "Not shown: 65532 closed ports\n",
      "PORT     STATE SERVICE\n",
      "22/tcp   open  ssh\n",
      "111/tcp  open  rpcbind\n",
      "6653/tcp open  openflow\n",
      "\n",
      "Nmap done: 1 IP address (1 host up) scanned in 1.67 seconds\n",
      "\n"
     ]
    }
   ],
   "source": [
    "ssh = ssh_connect('128.232.97.85')\n",
    "output = ssh_cmd('nmap -p - 128.232.97.87',ssh)\n",
    "print(output)"
   ]
  },
  {
   "cell_type": "code",
   "execution_count": 6,
   "id": "839591b8",
   "metadata": {},
   "outputs": [
    {
     "name": "stdout",
     "output_type": "stream",
     "text": [
      "Starting Nmap 7.80 ( https://nmap.org ) at 2021-11-24 11:26 UTC\n",
      "Nmap scan report for 128.232.97.88\n",
      "Host is up (0.000012s latency).\n",
      "Not shown: 65532 closed ports\n",
      "PORT     STATE SERVICE\n",
      "22/tcp   open  ssh\n",
      "111/tcp  open  rpcbind\n",
      "6653/tcp open  openflow\n",
      "\n",
      "Nmap done: 1 IP address (1 host up) scanned in 1.66 seconds\n",
      "\n"
     ]
    }
   ],
   "source": [
    "ssh = ssh_connect('128.232.97.85')\n",
    "output = ssh_cmd('nmap -p - 128.232.97.88',ssh)\n",
    "print(output)"
   ]
  },
  {
   "cell_type": "code",
   "execution_count": 7,
   "id": "2a1802c0",
   "metadata": {},
   "outputs": [
    {
     "name": "stdout",
     "output_type": "stream",
     "text": [
      "Starting Nmap 7.80 ( https://nmap.org ) at 2021-11-24 11:26 UTC\n",
      "Nmap scan report for 128.232.97.89\n",
      "Host is up (0.000012s latency).\n",
      "Not shown: 65532 closed ports\n",
      "PORT     STATE SERVICE\n",
      "22/tcp   open  ssh\n",
      "111/tcp  open  rpcbind\n",
      "6653/tcp open  openflow\n",
      "\n",
      "Nmap done: 1 IP address (1 host up) scanned in 1.66 seconds\n",
      "\n"
     ]
    }
   ],
   "source": [
    "ssh = ssh_connect('128.232.97.85')\n",
    "output = ssh_cmd('nmap -p - 128.232.97.89',ssh)\n",
    "print(output)"
   ]
  },
  {
   "cell_type": "code",
   "execution_count": 9,
   "id": "a2a0ede6",
   "metadata": {},
   "outputs": [
    {
     "name": "stdout",
     "output_type": "stream",
     "text": [
      "Starting Nmap 7.80 ( https://nmap.org ) at 2021-11-24 11:27 UTC\n",
      "Nmap scan report for 128.232.97.86\n",
      "Host is up (0.000084s latency).\n",
      "Not shown: 990 closed ports\n",
      "PORT      STATE         SERVICE\n",
      "38/udp    open|filtered rap\n",
      "111/udp   open          rpcbind\n",
      "123/udp   open          ntp\n",
      "502/udp   open|filtered mbap\n",
      "17638/udp open|filtered unknown\n",
      "21566/udp open|filtered unknown\n",
      "34038/udp open|filtered unknown\n",
      "49171/udp open|filtered unknown\n",
      "49396/udp open|filtered unknown\n",
      "53006/udp open|filtered unknown\n",
      "\n",
      "Nmap done: 1 IP address (1 host up) scanned in 1094.02 seconds\n",
      "\n"
     ]
    }
   ],
   "source": [
    "ssh = ssh_connect('128.232.97.85')\n",
    "output = ssh_cmd('nmap -sU 128.232.97.86',ssh)\n",
    "print(output)"
   ]
  },
  {
   "cell_type": "code",
   "execution_count": null,
   "id": "01e0cff7",
   "metadata": {},
   "outputs": [],
   "source": []
  }
 ],
 "metadata": {
  "kernelspec": {
   "display_name": "Python 3 (ipykernel)",
   "language": "python",
   "name": "python3"
  },
  "language_info": {
   "codemirror_mode": {
    "name": "ipython",
    "version": 3
   },
   "file_extension": ".py",
   "mimetype": "text/x-python",
   "name": "python",
   "nbconvert_exporter": "python",
   "pygments_lexer": "ipython3",
   "version": "3.9.7"
  }
 },
 "nbformat": 4,
 "nbformat_minor": 5
}
